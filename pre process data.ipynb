{
 "cells": [
  {
   "cell_type": "code",
   "execution_count": 1,
   "id": "09c9a2fb",
   "metadata": {},
   "outputs": [],
   "source": [
    "import pandas as pd\n",
    "import numpy as np\n",
    "import requests\n",
    "import urllib.request\n",
    "import json\n",
    "import geopandas as gpd\n",
    "import matplotlib.pyplot as plt\n",
    "from shapely.wkt import loads"
   ]
  },
  {
   "cell_type": "code",
   "execution_count": 2,
   "id": "929bf7ba",
   "metadata": {},
   "outputs": [],
   "source": [
    "key = '01e50810998b0acda3ea2cba960a804ac68205ea'"
   ]
  },
  {
   "cell_type": "code",
   "execution_count": 3,
   "id": "14b7455a",
   "metadata": {},
   "outputs": [],
   "source": [
    "baseUrl = \"https://api.census.gov/data/2021/acs/acs5\"\n",
    "API_key = f'&key={key}'"
   ]
  },
  {
   "cell_type": "code",
   "execution_count": 4,
   "id": "2ffaaf7b",
   "metadata": {},
   "outputs": [],
   "source": [
    "#B19025 : Aggregate household income in the past 12 months (in 2022 inflation-adjusted dollars) --> i_0\n",
    "\n",
    "# B25089: Aggregate Selected Monthly Owner Costs (Dollars) By Mortgage Status\n",
    "\n",
    "# B19001 Household Income In The Past 12 Months (In 2021 Inflation-Adjusted Dollars) —> # households\n",
    "# B25003: Tenure\n",
    "# B25120: Aggregate Household Income In The Past 12 Months (In 2021 Inflation-Adjusted Dollars) By Tenure And Mortgage Status\n"
   ]
  },
  {
   "cell_type": "code",
   "execution_count": 5,
   "id": "20ba6f64",
   "metadata": {},
   "outputs": [],
   "source": [
    "# define URL for the Data Sets endpoint \n",
    "variables_bg = \"?get=B19025_001E,B25003_001E,B25003_002E\"\n",
    "geo_bg = \"&for=block%20group:*&in=county:019&in=state:45\"\n",
    "\n",
    "# open the URL as defined above and create a the request object \n",
    "request_1 = urllib.request.urlopen(baseUrl + variables_bg + geo_bg + API_key)\n",
    "\n",
    "# actually read the data\n",
    "result_variables_bg = request_1.read()"
   ]
  },
  {
   "cell_type": "code",
   "execution_count": 6,
   "id": "8c68cb13",
   "metadata": {},
   "outputs": [],
   "source": [
    "# define URL for the Data Sets endpoint \n",
    "variables_tract = \"?get=B25120_002E,B25003_002E\"\n",
    "geo_tract = \"&for=tract:*&in=county:019&in=state:45\"\n",
    "\n",
    "# open the URL as defined above and create a the request object \n",
    "request_2 = urllib.request.urlopen(baseUrl + variables_tract + geo_tract + API_key)\n",
    "\n",
    "# actually read the data\n",
    "result_variables_tract = request_2.read()"
   ]
  },
  {
   "cell_type": "code",
   "execution_count": 7,
   "id": "ba14cf40",
   "metadata": {},
   "outputs": [],
   "source": [
    "# transform to Python dictionary\n",
    "jsonData_bg = json.loads(result_variables_bg.decode('utf-8'))\n",
    "df_bg = pd.DataFrame(jsonData_bg)"
   ]
  },
  {
   "cell_type": "code",
   "execution_count": 8,
   "id": "da458528",
   "metadata": {},
   "outputs": [],
   "source": [
    "# transform to Python dictionary\n",
    "jsonData_tract = json.loads(result_variables_tract.decode('utf-8'))\n",
    "df_tract = pd.DataFrame(jsonData_tract)"
   ]
  },
  {
   "cell_type": "code",
   "execution_count": 9,
   "id": "4040e75e",
   "metadata": {},
   "outputs": [],
   "source": [
    "# first row are the column names, this needs to be fixed\n",
    "df_tract.columns = df_tract.iloc[0]\n",
    "df_tract = df_tract.iloc[1:]"
   ]
  },
  {
   "cell_type": "code",
   "execution_count": 10,
   "id": "6c6d704b",
   "metadata": {},
   "outputs": [],
   "source": [
    "# first row are the column names, this needs to be fixed\n",
    "df_bg.columns = df_bg.iloc[0]\n",
    "df_bg = df_bg.iloc[1:]"
   ]
  },
  {
   "cell_type": "code",
   "execution_count": 11,
   "id": "3388a4d4",
   "metadata": {},
   "outputs": [
    {
     "name": "stdout",
     "output_type": "stream",
     "text": [
      "<class 'pandas.core.frame.DataFrame'>\n",
      "RangeIndex: 99 entries, 1 to 99\n",
      "Data columns (total 5 columns):\n",
      " #   Column       Non-Null Count  Dtype \n",
      "---  ------       --------------  ----- \n",
      " 0   B25120_002E  97 non-null     object\n",
      " 1   B25003_002E  99 non-null     object\n",
      " 2   state        99 non-null     object\n",
      " 3   county       99 non-null     object\n",
      " 4   tract        99 non-null     object\n",
      "dtypes: object(5)\n",
      "memory usage: 4.0+ KB\n"
     ]
    }
   ],
   "source": [
    "df_tract.info()"
   ]
  },
  {
   "cell_type": "code",
   "execution_count": 12,
   "id": "a901fd7e",
   "metadata": {},
   "outputs": [],
   "source": [
    "df_tract = df_tract.rename(columns={'B25003_002E': 'owner_households_tract', 'B25120_002E': 'total_owner_i_0_tract'})"
   ]
  },
  {
   "cell_type": "code",
   "execution_count": 13,
   "id": "256d5bdb",
   "metadata": {},
   "outputs": [
    {
     "data": {
      "text/html": [
       "<div>\n",
       "<style scoped>\n",
       "    .dataframe tbody tr th:only-of-type {\n",
       "        vertical-align: middle;\n",
       "    }\n",
       "\n",
       "    .dataframe tbody tr th {\n",
       "        vertical-align: top;\n",
       "    }\n",
       "\n",
       "    .dataframe thead th {\n",
       "        text-align: right;\n",
       "    }\n",
       "</style>\n",
       "<table border=\"1\" class=\"dataframe\">\n",
       "  <thead>\n",
       "    <tr style=\"text-align: right;\">\n",
       "      <th></th>\n",
       "      <th>total_owner_i_0_tract</th>\n",
       "      <th>owner_households_tract</th>\n",
       "      <th>state</th>\n",
       "      <th>county</th>\n",
       "      <th>tract</th>\n",
       "    </tr>\n",
       "  </thead>\n",
       "  <tbody>\n",
       "    <tr>\n",
       "      <th>1</th>\n",
       "      <td>160095300</td>\n",
       "      <td>664</td>\n",
       "      <td>45</td>\n",
       "      <td>019</td>\n",
       "      <td>000100</td>\n",
       "    </tr>\n",
       "    <tr>\n",
       "      <th>2</th>\n",
       "      <td>165931300</td>\n",
       "      <td>506</td>\n",
       "      <td>45</td>\n",
       "      <td>019</td>\n",
       "      <td>000200</td>\n",
       "    </tr>\n",
       "    <tr>\n",
       "      <th>3</th>\n",
       "      <td>112160100</td>\n",
       "      <td>313</td>\n",
       "      <td>45</td>\n",
       "      <td>019</td>\n",
       "      <td>000400</td>\n",
       "    </tr>\n",
       "    <tr>\n",
       "      <th>4</th>\n",
       "      <td>86889200</td>\n",
       "      <td>471</td>\n",
       "      <td>45</td>\n",
       "      <td>019</td>\n",
       "      <td>000500</td>\n",
       "    </tr>\n",
       "    <tr>\n",
       "      <th>5</th>\n",
       "      <td>30888400</td>\n",
       "      <td>136</td>\n",
       "      <td>45</td>\n",
       "      <td>019</td>\n",
       "      <td>000600</td>\n",
       "    </tr>\n",
       "  </tbody>\n",
       "</table>\n",
       "</div>"
      ],
      "text/plain": [
       "0 total_owner_i_0_tract owner_households_tract state county   tract\n",
       "1             160095300                    664    45    019  000100\n",
       "2             165931300                    506    45    019  000200\n",
       "3             112160100                    313    45    019  000400\n",
       "4              86889200                    471    45    019  000500\n",
       "5              30888400                    136    45    019  000600"
      ]
     },
     "execution_count": 13,
     "metadata": {},
     "output_type": "execute_result"
    }
   ],
   "source": [
    "df_tract.head()"
   ]
  },
  {
   "cell_type": "code",
   "execution_count": 14,
   "id": "b0ea0087",
   "metadata": {},
   "outputs": [
    {
     "data": {
      "text/html": [
       "<div>\n",
       "<style scoped>\n",
       "    .dataframe tbody tr th:only-of-type {\n",
       "        vertical-align: middle;\n",
       "    }\n",
       "\n",
       "    .dataframe tbody tr th {\n",
       "        vertical-align: top;\n",
       "    }\n",
       "\n",
       "    .dataframe thead th {\n",
       "        text-align: right;\n",
       "    }\n",
       "</style>\n",
       "<table border=\"1\" class=\"dataframe\">\n",
       "  <thead>\n",
       "    <tr style=\"text-align: right;\">\n",
       "      <th></th>\n",
       "      <th>B19025_001E</th>\n",
       "      <th>B25003_001E</th>\n",
       "      <th>B25003_002E</th>\n",
       "      <th>state</th>\n",
       "      <th>county</th>\n",
       "      <th>tract</th>\n",
       "      <th>block group</th>\n",
       "      <th>total_owner_i_0_tract</th>\n",
       "      <th>owner_households_tract</th>\n",
       "    </tr>\n",
       "  </thead>\n",
       "  <tbody>\n",
       "    <tr>\n",
       "      <th>0</th>\n",
       "      <td>42430300</td>\n",
       "      <td>303</td>\n",
       "      <td>165</td>\n",
       "      <td>45</td>\n",
       "      <td>019</td>\n",
       "      <td>000100</td>\n",
       "      <td>1</td>\n",
       "      <td>160095300</td>\n",
       "      <td>664</td>\n",
       "    </tr>\n",
       "    <tr>\n",
       "      <th>1</th>\n",
       "      <td>63660700</td>\n",
       "      <td>316</td>\n",
       "      <td>254</td>\n",
       "      <td>45</td>\n",
       "      <td>019</td>\n",
       "      <td>000100</td>\n",
       "      <td>2</td>\n",
       "      <td>160095300</td>\n",
       "      <td>664</td>\n",
       "    </tr>\n",
       "    <tr>\n",
       "      <th>2</th>\n",
       "      <td>68497300</td>\n",
       "      <td>262</td>\n",
       "      <td>245</td>\n",
       "      <td>45</td>\n",
       "      <td>019</td>\n",
       "      <td>000100</td>\n",
       "      <td>3</td>\n",
       "      <td>160095300</td>\n",
       "      <td>664</td>\n",
       "    </tr>\n",
       "    <tr>\n",
       "      <th>3</th>\n",
       "      <td>55171400</td>\n",
       "      <td>243</td>\n",
       "      <td>195</td>\n",
       "      <td>45</td>\n",
       "      <td>019</td>\n",
       "      <td>000200</td>\n",
       "      <td>1</td>\n",
       "      <td>165931300</td>\n",
       "      <td>506</td>\n",
       "    </tr>\n",
       "    <tr>\n",
       "      <th>4</th>\n",
       "      <td>126362700</td>\n",
       "      <td>366</td>\n",
       "      <td>311</td>\n",
       "      <td>45</td>\n",
       "      <td>019</td>\n",
       "      <td>000200</td>\n",
       "      <td>2</td>\n",
       "      <td>165931300</td>\n",
       "      <td>506</td>\n",
       "    </tr>\n",
       "    <tr>\n",
       "      <th>...</th>\n",
       "      <td>...</td>\n",
       "      <td>...</td>\n",
       "      <td>...</td>\n",
       "      <td>...</td>\n",
       "      <td>...</td>\n",
       "      <td>...</td>\n",
       "      <td>...</td>\n",
       "      <td>...</td>\n",
       "      <td>...</td>\n",
       "    </tr>\n",
       "    <tr>\n",
       "      <th>256</th>\n",
       "      <td>201103800</td>\n",
       "      <td>1786</td>\n",
       "      <td>1088</td>\n",
       "      <td>45</td>\n",
       "      <td>019</td>\n",
       "      <td>005800</td>\n",
       "      <td>3</td>\n",
       "      <td>262790600</td>\n",
       "      <td>2096</td>\n",
       "    </tr>\n",
       "    <tr>\n",
       "      <th>257</th>\n",
       "      <td>72364500</td>\n",
       "      <td>519</td>\n",
       "      <td>369</td>\n",
       "      <td>45</td>\n",
       "      <td>019</td>\n",
       "      <td>005900</td>\n",
       "      <td>1</td>\n",
       "      <td>166856500</td>\n",
       "      <td>1139</td>\n",
       "    </tr>\n",
       "    <tr>\n",
       "      <th>258</th>\n",
       "      <td>39654400</td>\n",
       "      <td>406</td>\n",
       "      <td>237</td>\n",
       "      <td>45</td>\n",
       "      <td>019</td>\n",
       "      <td>005900</td>\n",
       "      <td>2</td>\n",
       "      <td>166856500</td>\n",
       "      <td>1139</td>\n",
       "    </tr>\n",
       "    <tr>\n",
       "      <th>259</th>\n",
       "      <td>98738400</td>\n",
       "      <td>844</td>\n",
       "      <td>533</td>\n",
       "      <td>45</td>\n",
       "      <td>019</td>\n",
       "      <td>005900</td>\n",
       "      <td>3</td>\n",
       "      <td>166856500</td>\n",
       "      <td>1139</td>\n",
       "    </tr>\n",
       "    <tr>\n",
       "      <th>260</th>\n",
       "      <td>-666666666</td>\n",
       "      <td>0</td>\n",
       "      <td>0</td>\n",
       "      <td>45</td>\n",
       "      <td>019</td>\n",
       "      <td>990100</td>\n",
       "      <td>0</td>\n",
       "      <td>-666666666</td>\n",
       "      <td>0</td>\n",
       "    </tr>\n",
       "  </tbody>\n",
       "</table>\n",
       "<p>261 rows × 9 columns</p>\n",
       "</div>"
      ],
      "text/plain": [
       "0   B19025_001E B25003_001E B25003_002E state county   tract block group  \\\n",
       "0      42430300         303         165    45    019  000100           1   \n",
       "1      63660700         316         254    45    019  000100           2   \n",
       "2      68497300         262         245    45    019  000100           3   \n",
       "3      55171400         243         195    45    019  000200           1   \n",
       "4     126362700         366         311    45    019  000200           2   \n",
       "..          ...         ...         ...   ...    ...     ...         ...   \n",
       "256   201103800        1786        1088    45    019  005800           3   \n",
       "257    72364500         519         369    45    019  005900           1   \n",
       "258    39654400         406         237    45    019  005900           2   \n",
       "259    98738400         844         533    45    019  005900           3   \n",
       "260  -666666666           0           0    45    019  990100           0   \n",
       "\n",
       "0   total_owner_i_0_tract owner_households_tract  \n",
       "0               160095300                    664  \n",
       "1               160095300                    664  \n",
       "2               160095300                    664  \n",
       "3               165931300                    506  \n",
       "4               165931300                    506  \n",
       "..                    ...                    ...  \n",
       "256             262790600                   2096  \n",
       "257             166856500                   1139  \n",
       "258             166856500                   1139  \n",
       "259             166856500                   1139  \n",
       "260            -666666666                      0  \n",
       "\n",
       "[261 rows x 9 columns]"
      ]
     },
     "execution_count": 14,
     "metadata": {},
     "output_type": "execute_result"
    }
   ],
   "source": [
    "merged_df = pd.merge(df_bg, df_tract[['state', 'county', 'tract', 'total_owner_i_0_tract', 'owner_households_tract']], on=['state', 'county', 'tract'], how='left')\n",
    "merged_df"
   ]
  },
  {
   "cell_type": "code",
   "execution_count": 15,
   "id": "f89838df",
   "metadata": {},
   "outputs": [],
   "source": [
    "merged_df['GEOID'] = merged_df[\"state\"] + merged_df[\"county\"] + merged_df[\"tract\"] + merged_df['block group']"
   ]
  },
  {
   "cell_type": "code",
   "execution_count": 16,
   "id": "b7969152",
   "metadata": {},
   "outputs": [],
   "source": [
    "# Remove columns\n",
    "df = merged_df.drop(columns = [\"state\", \"county\", \"tract\", \"block group\"]) "
   ]
  },
  {
   "cell_type": "code",
   "execution_count": 17,
   "id": "2e82da55",
   "metadata": {},
   "outputs": [],
   "source": [
    "df = df.apply(pd.to_numeric, errors='coerce')"
   ]
  },
  {
   "cell_type": "code",
   "execution_count": 18,
   "id": "38779e30",
   "metadata": {},
   "outputs": [],
   "source": [
    "df['fraction'] = df['B25003_002E']/df['B25003_001E']\n",
    "df['owner_i_0_tract'] = df['total_owner_i_0_tract']/df['owner_households_tract']"
   ]
  },
  {
   "cell_type": "code",
   "execution_count": 19,
   "id": "521f3522",
   "metadata": {},
   "outputs": [
    {
     "data": {
      "text/html": [
       "<div>\n",
       "<style scoped>\n",
       "    .dataframe tbody tr th:only-of-type {\n",
       "        vertical-align: middle;\n",
       "    }\n",
       "\n",
       "    .dataframe tbody tr th {\n",
       "        vertical-align: top;\n",
       "    }\n",
       "\n",
       "    .dataframe thead th {\n",
       "        text-align: right;\n",
       "    }\n",
       "</style>\n",
       "<table border=\"1\" class=\"dataframe\">\n",
       "  <thead>\n",
       "    <tr style=\"text-align: right;\">\n",
       "      <th></th>\n",
       "      <th>B19025_001E</th>\n",
       "      <th>B25003_001E</th>\n",
       "      <th>B25003_002E</th>\n",
       "      <th>total_owner_i_0_tract</th>\n",
       "      <th>owner_households_tract</th>\n",
       "      <th>GEOID</th>\n",
       "      <th>fraction</th>\n",
       "      <th>owner_i_0_tract</th>\n",
       "    </tr>\n",
       "  </thead>\n",
       "  <tbody>\n",
       "    <tr>\n",
       "      <th>0</th>\n",
       "      <td>42430300.0</td>\n",
       "      <td>303</td>\n",
       "      <td>165</td>\n",
       "      <td>160095300.0</td>\n",
       "      <td>664</td>\n",
       "      <td>450190001001</td>\n",
       "      <td>0.544554</td>\n",
       "      <td>241107.379518</td>\n",
       "    </tr>\n",
       "    <tr>\n",
       "      <th>1</th>\n",
       "      <td>63660700.0</td>\n",
       "      <td>316</td>\n",
       "      <td>254</td>\n",
       "      <td>160095300.0</td>\n",
       "      <td>664</td>\n",
       "      <td>450190001002</td>\n",
       "      <td>0.803797</td>\n",
       "      <td>241107.379518</td>\n",
       "    </tr>\n",
       "  </tbody>\n",
       "</table>\n",
       "</div>"
      ],
      "text/plain": [
       "0  B19025_001E  B25003_001E  B25003_002E  total_owner_i_0_tract  \\\n",
       "0   42430300.0          303          165            160095300.0   \n",
       "1   63660700.0          316          254            160095300.0   \n",
       "\n",
       "0  owner_households_tract         GEOID  fraction  owner_i_0_tract  \n",
       "0                     664  450190001001  0.544554    241107.379518  \n",
       "1                     664  450190001002  0.803797    241107.379518  "
      ]
     },
     "execution_count": 19,
     "metadata": {},
     "output_type": "execute_result"
    }
   ],
   "source": [
    "df.head(2)"
   ]
  },
  {
   "cell_type": "code",
   "execution_count": 20,
   "id": "2aec2588",
   "metadata": {},
   "outputs": [
    {
     "data": {
      "text/html": [
       "<div>\n",
       "<style scoped>\n",
       "    .dataframe tbody tr th:only-of-type {\n",
       "        vertical-align: middle;\n",
       "    }\n",
       "\n",
       "    .dataframe tbody tr th {\n",
       "        vertical-align: top;\n",
       "    }\n",
       "\n",
       "    .dataframe thead th {\n",
       "        text-align: right;\n",
       "    }\n",
       "</style>\n",
       "<table border=\"1\" class=\"dataframe\">\n",
       "  <thead>\n",
       "    <tr style=\"text-align: right;\">\n",
       "      <th></th>\n",
       "      <th>i_0</th>\n",
       "      <th>#_households</th>\n",
       "      <th>owner_households</th>\n",
       "      <th>total_owner_i_0_tract</th>\n",
       "      <th>owner_households_tract</th>\n",
       "      <th>GEOID</th>\n",
       "      <th>fraction</th>\n",
       "      <th>owner_i_0_tract</th>\n",
       "    </tr>\n",
       "  </thead>\n",
       "  <tbody>\n",
       "    <tr>\n",
       "      <th>0</th>\n",
       "      <td>42430300.0</td>\n",
       "      <td>303</td>\n",
       "      <td>165</td>\n",
       "      <td>160095300.0</td>\n",
       "      <td>664</td>\n",
       "      <td>450190001001</td>\n",
       "      <td>0.544554</td>\n",
       "      <td>241107.379518</td>\n",
       "    </tr>\n",
       "    <tr>\n",
       "      <th>1</th>\n",
       "      <td>63660700.0</td>\n",
       "      <td>316</td>\n",
       "      <td>254</td>\n",
       "      <td>160095300.0</td>\n",
       "      <td>664</td>\n",
       "      <td>450190001002</td>\n",
       "      <td>0.803797</td>\n",
       "      <td>241107.379518</td>\n",
       "    </tr>\n",
       "  </tbody>\n",
       "</table>\n",
       "</div>"
      ],
      "text/plain": [
       "0         i_0  #_households  owner_households  total_owner_i_0_tract  \\\n",
       "0  42430300.0           303               165            160095300.0   \n",
       "1  63660700.0           316               254            160095300.0   \n",
       "\n",
       "0  owner_households_tract         GEOID  fraction  owner_i_0_tract  \n",
       "0                     664  450190001001  0.544554    241107.379518  \n",
       "1                     664  450190001002  0.803797    241107.379518  "
      ]
     },
     "execution_count": 20,
     "metadata": {},
     "output_type": "execute_result"
    }
   ],
   "source": [
    "# rename columns\n",
    "df = df.rename(columns={'B19025_001E': 'i_0','B25003_001E':'#_households',\n",
    "                         'B25003_002E':'owner_households'})\n",
    "df.head(2)"
   ]
  },
  {
   "cell_type": "code",
   "execution_count": 21,
   "id": "982e6617",
   "metadata": {},
   "outputs": [],
   "source": [
    "columns_to_drop = ['owner_households_tract', 'total_owner_i_0_tract']\n",
    "df = df.drop(columns=columns_to_drop)"
   ]
  },
  {
   "cell_type": "code",
   "execution_count": 22,
   "id": "c520398f",
   "metadata": {},
   "outputs": [
    {
     "name": "stdout",
     "output_type": "stream",
     "text": [
      "<class 'pandas.core.frame.DataFrame'>\n",
      "Int64Index: 261 entries, 0 to 260\n",
      "Data columns (total 6 columns):\n",
      " #   Column            Non-Null Count  Dtype  \n",
      "---  ------            --------------  -----  \n",
      " 0   i_0               260 non-null    float64\n",
      " 1   #_households      261 non-null    int64  \n",
      " 2   owner_households  261 non-null    int64  \n",
      " 3   GEOID             261 non-null    int64  \n",
      " 4   fraction          260 non-null    float64\n",
      " 5   owner_i_0_tract   256 non-null    float64\n",
      "dtypes: float64(3), int64(3)\n",
      "memory usage: 14.3 KB\n"
     ]
    }
   ],
   "source": [
    "df.info()"
   ]
  },
  {
   "cell_type": "markdown",
   "id": "d6682875",
   "metadata": {},
   "source": [
    "## load in shapefiles"
   ]
  },
  {
   "cell_type": "code",
   "execution_count": 23,
   "id": "255480ad",
   "metadata": {},
   "outputs": [],
   "source": [
    "df_damage_clean = pd.read_csv('data/damage_shape.csv')"
   ]
  },
  {
   "cell_type": "markdown",
   "id": "f9f0415e",
   "metadata": {},
   "source": [
    "#### Merge with shapefile"
   ]
  },
  {
   "cell_type": "code",
   "execution_count": 24,
   "id": "7372ce5d",
   "metadata": {},
   "outputs": [],
   "source": [
    "# merge with shapefile\n",
    "merged_df = df.merge(df_damage_clean, on = \"GEOID\")"
   ]
  },
  {
   "cell_type": "code",
   "execution_count": 25,
   "id": "fb25f3e4",
   "metadata": {},
   "outputs": [],
   "source": [
    "merged_df['geometry'] = merged_df['geometry'].apply(loads)\n",
    "merged_df = gpd.GeoDataFrame(merged_df, geometry=\"geometry\", crs='EPSG:4326')"
   ]
  },
  {
   "cell_type": "markdown",
   "id": "1f95065e",
   "metadata": {},
   "source": [
    "### Check on NaN values and other issues"
   ]
  },
  {
   "cell_type": "code",
   "execution_count": 26,
   "id": "3ae54846",
   "metadata": {
    "scrolled": true
   },
   "outputs": [
    {
     "name": "stdout",
     "output_type": "stream",
     "text": [
      "<class 'geopandas.geodataframe.GeoDataFrame'>\n",
      "Int64Index: 252 entries, 0 to 251\n",
      "Data columns (total 10 columns):\n",
      " #   Column                           Non-Null Count  Dtype   \n",
      "---  ------                           --------------  -----   \n",
      " 0   i_0                              251 non-null    float64 \n",
      " 1   #_households                     252 non-null    int64   \n",
      " 2   owner_households                 252 non-null    int64   \n",
      " 3   GEOID                            252 non-null    int64   \n",
      " 4   fraction                         252 non-null    float64 \n",
      " 5   owner_i_0_tract                  247 non-null    float64 \n",
      " 6   geometry                         252 non-null    geometry\n",
      " 7   Max Potential Damage: Structure  252 non-null    float64 \n",
      " 8   Damage: Structure                252 non-null    float64 \n",
      " 9   Risk (EAD)                       252 non-null    float64 \n",
      "dtypes: float64(6), geometry(1), int64(3)\n",
      "memory usage: 21.7 KB\n"
     ]
    }
   ],
   "source": [
    "merged_df.info()"
   ]
  },
  {
   "cell_type": "markdown",
   "id": "afa52de5",
   "metadata": {},
   "source": [
    "There is 1 NaN value in the i_0 \\n\n",
    "There needs to be checked if there block groups where there are only renter-occupied households"
   ]
  },
  {
   "cell_type": "code",
   "execution_count": 27,
   "id": "b4abaae8",
   "metadata": {},
   "outputs": [
    {
     "data": {
      "text/html": [
       "<div>\n",
       "<style scoped>\n",
       "    .dataframe tbody tr th:only-of-type {\n",
       "        vertical-align: middle;\n",
       "    }\n",
       "\n",
       "    .dataframe tbody tr th {\n",
       "        vertical-align: top;\n",
       "    }\n",
       "\n",
       "    .dataframe thead th {\n",
       "        text-align: right;\n",
       "    }\n",
       "</style>\n",
       "<table border=\"1\" class=\"dataframe\">\n",
       "  <thead>\n",
       "    <tr style=\"text-align: right;\">\n",
       "      <th></th>\n",
       "      <th>i_0</th>\n",
       "      <th>#_households</th>\n",
       "      <th>owner_households</th>\n",
       "      <th>GEOID</th>\n",
       "      <th>fraction</th>\n",
       "      <th>owner_i_0_tract</th>\n",
       "      <th>geometry</th>\n",
       "      <th>Max Potential Damage: Structure</th>\n",
       "      <th>Damage: Structure</th>\n",
       "      <th>Risk (EAD)</th>\n",
       "    </tr>\n",
       "  </thead>\n",
       "  <tbody>\n",
       "    <tr>\n",
       "      <th>80</th>\n",
       "      <td>26100400.0</td>\n",
       "      <td>447</td>\n",
       "      <td>0</td>\n",
       "      <td>450190026122</td>\n",
       "      <td>0.0</td>\n",
       "      <td>1.365660e+05</td>\n",
       "      <td>POLYGON ((-80.01533 32.81004, -80.01526 32.810...</td>\n",
       "      <td>7.402060e+07</td>\n",
       "      <td>0.00</td>\n",
       "      <td>104882.38</td>\n",
       "    </tr>\n",
       "    <tr>\n",
       "      <th>125</th>\n",
       "      <td>10836500.0</td>\n",
       "      <td>283</td>\n",
       "      <td>0</td>\n",
       "      <td>450190031112</td>\n",
       "      <td>0.0</td>\n",
       "      <td>6.162297e+04</td>\n",
       "      <td>POLYGON ((-80.05482 32.87007, -80.05456 32.870...</td>\n",
       "      <td>3.113501e+07</td>\n",
       "      <td>0.00</td>\n",
       "      <td>603.35</td>\n",
       "    </tr>\n",
       "    <tr>\n",
       "      <th>133</th>\n",
       "      <td>30435500.0</td>\n",
       "      <td>704</td>\n",
       "      <td>0</td>\n",
       "      <td>450190031161</td>\n",
       "      <td>0.0</td>\n",
       "      <td>1.004359e+05</td>\n",
       "      <td>POLYGON ((-80.04747 32.95361, -80.04690 32.953...</td>\n",
       "      <td>6.178572e+07</td>\n",
       "      <td>0.00</td>\n",
       "      <td>0.00</td>\n",
       "    </tr>\n",
       "    <tr>\n",
       "      <th>138</th>\n",
       "      <td>12449600.0</td>\n",
       "      <td>204</td>\n",
       "      <td>0</td>\n",
       "      <td>450190032001</td>\n",
       "      <td>0.0</td>\n",
       "      <td>-inf</td>\n",
       "      <td>POLYGON ((-80.07008 32.89062, -80.06995 32.890...</td>\n",
       "      <td>1.396080e+07</td>\n",
       "      <td>0.00</td>\n",
       "      <td>0.00</td>\n",
       "    </tr>\n",
       "    <tr>\n",
       "      <th>139</th>\n",
       "      <td>14323800.0</td>\n",
       "      <td>192</td>\n",
       "      <td>0</td>\n",
       "      <td>450190032002</td>\n",
       "      <td>0.0</td>\n",
       "      <td>-inf</td>\n",
       "      <td>POLYGON ((-80.07504 32.89815, -80.07071 32.900...</td>\n",
       "      <td>2.526424e+07</td>\n",
       "      <td>0.00</td>\n",
       "      <td>0.00</td>\n",
       "    </tr>\n",
       "    <tr>\n",
       "      <th>230</th>\n",
       "      <td>4864400.0</td>\n",
       "      <td>289</td>\n",
       "      <td>0</td>\n",
       "      <td>450190053003</td>\n",
       "      <td>0.0</td>\n",
       "      <td>1.760267e+05</td>\n",
       "      <td>POLYGON ((-79.94320 32.80281, -79.94224 32.803...</td>\n",
       "      <td>2.892206e+07</td>\n",
       "      <td>1825987.65</td>\n",
       "      <td>376714.93</td>\n",
       "    </tr>\n",
       "  </tbody>\n",
       "</table>\n",
       "</div>"
      ],
      "text/plain": [
       "            i_0  #_households  owner_households         GEOID  fraction  \\\n",
       "80   26100400.0           447                 0  450190026122       0.0   \n",
       "125  10836500.0           283                 0  450190031112       0.0   \n",
       "133  30435500.0           704                 0  450190031161       0.0   \n",
       "138  12449600.0           204                 0  450190032001       0.0   \n",
       "139  14323800.0           192                 0  450190032002       0.0   \n",
       "230   4864400.0           289                 0  450190053003       0.0   \n",
       "\n",
       "     owner_i_0_tract                                           geometry  \\\n",
       "80      1.365660e+05  POLYGON ((-80.01533 32.81004, -80.01526 32.810...   \n",
       "125     6.162297e+04  POLYGON ((-80.05482 32.87007, -80.05456 32.870...   \n",
       "133     1.004359e+05  POLYGON ((-80.04747 32.95361, -80.04690 32.953...   \n",
       "138             -inf  POLYGON ((-80.07008 32.89062, -80.06995 32.890...   \n",
       "139             -inf  POLYGON ((-80.07504 32.89815, -80.07071 32.900...   \n",
       "230     1.760267e+05  POLYGON ((-79.94320 32.80281, -79.94224 32.803...   \n",
       "\n",
       "     Max Potential Damage: Structure  Damage: Structure  Risk (EAD)  \n",
       "80                      7.402060e+07               0.00   104882.38  \n",
       "125                     3.113501e+07               0.00      603.35  \n",
       "133                     6.178572e+07               0.00        0.00  \n",
       "138                     1.396080e+07               0.00        0.00  \n",
       "139                     2.526424e+07               0.00        0.00  \n",
       "230                     2.892206e+07         1825987.65   376714.93  "
      ]
     },
     "execution_count": 27,
     "metadata": {},
     "output_type": "execute_result"
    }
   ],
   "source": [
    "# check for block groups with no owner-occupied households\n",
    "merged_df[merged_df['fraction'] <= 0]"
   ]
  },
  {
   "cell_type": "code",
   "execution_count": 28,
   "id": "302622a5",
   "metadata": {},
   "outputs": [],
   "source": [
    "# drop the block groups with no owner-occupied households\n",
    "owners_df = merged_df.loc[merged_df['fraction'] > 0]"
   ]
  },
  {
   "cell_type": "code",
   "execution_count": 29,
   "id": "0b38a828",
   "metadata": {},
   "outputs": [
    {
     "name": "stderr",
     "output_type": "stream",
     "text": [
      "/Users/kariendejonge/opt/anaconda3/lib/python3.9/site-packages/geopandas/geodataframe.py:1543: SettingWithCopyWarning: \n",
      "A value is trying to be set on a copy of a slice from a DataFrame.\n",
      "Try using .loc[row_indexer,col_indexer] = value instead\n",
      "\n",
      "See the caveats in the documentation: https://pandas.pydata.org/pandas-docs/stable/user_guide/indexing.html#returning-a-view-versus-a-copy\n",
      "  super().__setitem__(key, value)\n"
     ]
    }
   ],
   "source": [
    "# calculate average household income\n",
    "owners_df['ave_i_0'] = owners_df['i_0']/owners_df['#_households']"
   ]
  },
  {
   "cell_type": "code",
   "execution_count": 30,
   "id": "074f66c5",
   "metadata": {},
   "outputs": [
    {
     "data": {
      "text/html": [
       "<div>\n",
       "<style scoped>\n",
       "    .dataframe tbody tr th:only-of-type {\n",
       "        vertical-align: middle;\n",
       "    }\n",
       "\n",
       "    .dataframe tbody tr th {\n",
       "        vertical-align: top;\n",
       "    }\n",
       "\n",
       "    .dataframe thead th {\n",
       "        text-align: right;\n",
       "    }\n",
       "</style>\n",
       "<table border=\"1\" class=\"dataframe\">\n",
       "  <thead>\n",
       "    <tr style=\"text-align: right;\">\n",
       "      <th></th>\n",
       "      <th>i_0</th>\n",
       "      <th>#_households</th>\n",
       "      <th>owner_households</th>\n",
       "      <th>GEOID</th>\n",
       "      <th>fraction</th>\n",
       "      <th>owner_i_0_tract</th>\n",
       "      <th>geometry</th>\n",
       "      <th>Max Potential Damage: Structure</th>\n",
       "      <th>Damage: Structure</th>\n",
       "      <th>Risk (EAD)</th>\n",
       "      <th>ave_i_0</th>\n",
       "    </tr>\n",
       "  </thead>\n",
       "  <tbody>\n",
       "    <tr>\n",
       "      <th>46</th>\n",
       "      <td>NaN</td>\n",
       "      <td>166</td>\n",
       "      <td>87</td>\n",
       "      <td>450190020093</td>\n",
       "      <td>0.524096</td>\n",
       "      <td>101163.326785</td>\n",
       "      <td>POLYGON ((-79.97351 32.67128, -79.97337 32.671...</td>\n",
       "      <td>6.882354e+07</td>\n",
       "      <td>17090209.8</td>\n",
       "      <td>1059319.37</td>\n",
       "      <td>NaN</td>\n",
       "    </tr>\n",
       "  </tbody>\n",
       "</table>\n",
       "</div>"
      ],
      "text/plain": [
       "    i_0  #_households  owner_households         GEOID  fraction  \\\n",
       "46  NaN           166                87  450190020093  0.524096   \n",
       "\n",
       "    owner_i_0_tract                                           geometry  \\\n",
       "46    101163.326785  POLYGON ((-79.97351 32.67128, -79.97337 32.671...   \n",
       "\n",
       "    Max Potential Damage: Structure  Damage: Structure  Risk (EAD)  ave_i_0  \n",
       "46                     6.882354e+07         17090209.8  1059319.37      NaN  "
      ]
     },
     "execution_count": 30,
     "metadata": {},
     "output_type": "execute_result"
    }
   ],
   "source": [
    "# check on nan values\n",
    "owners_df[owners_df['ave_i_0'].isna()]"
   ]
  },
  {
   "cell_type": "code",
   "execution_count": 31,
   "id": "94fc01c2",
   "metadata": {},
   "outputs": [
    {
     "name": "stderr",
     "output_type": "stream",
     "text": [
      "/var/folders/2k/vz2b5q6n1m9_qv0lncpx5jww0000gn/T/ipykernel_41937/2598611912.py:2: SettingWithCopyWarning: \n",
      "A value is trying to be set on a copy of a slice from a DataFrame\n",
      "\n",
      "See the caveats in the documentation: https://pandas.pydata.org/pandas-docs/stable/user_guide/indexing.html#returning-a-view-versus-a-copy\n",
      "  owners_df['ave_i_0'].fillna((owners_df['owner_i_0_tract']), inplace=True)\n"
     ]
    }
   ],
   "source": [
    "# replace nan value with tract level owner income\n",
    "owners_df['ave_i_0'].fillna((owners_df['owner_i_0_tract']), inplace=True)"
   ]
  },
  {
   "cell_type": "code",
   "execution_count": 32,
   "id": "c205731f",
   "metadata": {},
   "outputs": [],
   "source": [
    "owners_df.drop(columns='owner_i_0_tract').to_csv('data/census_data_incl.csv', index=False)"
   ]
  },
  {
   "cell_type": "code",
   "execution_count": null,
   "id": "6a1d8957",
   "metadata": {},
   "outputs": [],
   "source": []
  },
  {
   "cell_type": "code",
   "execution_count": null,
   "id": "b25bdcb0",
   "metadata": {},
   "outputs": [],
   "source": []
  }
 ],
 "metadata": {
  "kernelspec": {
   "display_name": "Python 3 (ipykernel)",
   "language": "python",
   "name": "python3"
  },
  "language_info": {
   "codemirror_mode": {
    "name": "ipython",
    "version": 3
   },
   "file_extension": ".py",
   "mimetype": "text/x-python",
   "name": "python",
   "nbconvert_exporter": "python",
   "pygments_lexer": "ipython3",
   "version": "3.9.13"
  }
 },
 "nbformat": 4,
 "nbformat_minor": 5
}
