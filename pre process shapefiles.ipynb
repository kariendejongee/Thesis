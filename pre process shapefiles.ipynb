{
 "cells": [
  {
   "cell_type": "code",
   "execution_count": 1,
   "id": "be2974ec",
   "metadata": {},
   "outputs": [],
   "source": [
    "import pandas as pd\n",
    "import numpy as np\n",
    "import geopandas as gpd\n",
    "import matplotlib.pyplot as plt\n",
    "from shapely.geometry import shape"
   ]
  },
  {
   "cell_type": "markdown",
   "id": "9dd0943c",
   "metadata": {},
   "source": [
    "## load in damage data "
   ]
  },
  {
   "cell_type": "code",
   "execution_count": 2,
   "id": "4e84b029",
   "metadata": {},
   "outputs": [],
   "source": [
    "# load in damage files\n",
    "path_ian_70_buildings = 'data/Hurricane_Ian_scenarios/Hurricane_Ian_Shifted_70/impacts/Impacts_building_footprints_Hurricane_Ian_Shifted_70.gpkg'\n",
    "all_ian_70_buildings = gpd.read_file(path_ian_70_buildings)"
   ]
  },
  {
   "cell_type": "code",
   "execution_count": 3,
   "id": "634b7f3b",
   "metadata": {},
   "outputs": [],
   "source": [
    "#load in damage files\n",
    "path_ian_buildings = 'data/Hurricane_Ian_scenarios/Hurricane_Ian/impacts/Impacts_building_footprints_Hurricane_Ian.gpkg'\n",
    "all_ian_buildings = gpd.read_file(path_ian_buildings)"
   ]
  },
  {
   "cell_type": "code",
   "execution_count": 4,
   "id": "34d103f7",
   "metadata": {},
   "outputs": [],
   "source": [
    "# select only the residential buildings\n",
    "ian_70_buildings = all_ian_70_buildings.loc[all_ian_70_buildings['Primary Object Type'] == 'RES']\n",
    "all_ian_buildings = all_ian_buildings.loc[all_ian_buildings['Primary Object Type'] == 'RES']"
   ]
  },
  {
   "cell_type": "markdown",
   "id": "9afdfb46",
   "metadata": {},
   "source": [
    "## load in EAD data "
   ]
  },
  {
   "cell_type": "code",
   "execution_count": 5,
   "id": "b8d3c8e9",
   "metadata": {},
   "outputs": [],
   "source": [
    "impacts_detailed_path_geo = \"data/current_risk_no_measures/Impacts/Impacts_building_footprints_current_risk_no_measures.gpkg\"\n",
    "impacts = gpd.read_file(impacts_detailed_path_geo)"
   ]
  },
  {
   "cell_type": "code",
   "execution_count": 6,
   "id": "1e181400",
   "metadata": {},
   "outputs": [],
   "source": [
    "# select only the residential buildings\n",
    "impacts_res = impacts.loc[impacts['Primary Object Type'] == 'RES']"
   ]
  },
  {
   "cell_type": "markdown",
   "id": "1a84a941",
   "metadata": {},
   "source": [
    "Only run following cells to retrieve shapefile for charleston"
   ]
  },
  {
   "cell_type": "code",
   "execution_count": 7,
   "id": "0f33f6c3",
   "metadata": {},
   "outputs": [],
   "source": [
    "# # Access shapefile of South Carolina census blockgroup\n",
    "# SC_bg = gpd.read_file(\"https://www2.census.gov/geo/tiger/TIGER2021/BG/tl_2021_45_bg.zip\")\n",
    "\n",
    "# # Reproject shapefile to UTM Zone 17N\n",
    "# # https://spatialreference.org/ref/epsg/wgs-84-utm-zone-17n/\n",
    "# SC_bg = SC_bg.to_crs(epsg = 4326)#32617)"
   ]
  },
  {
   "cell_type": "code",
   "execution_count": 8,
   "id": "a1a8bc4f",
   "metadata": {},
   "outputs": [],
   "source": [
    "# # Drop multiple columns\n",
    "# columns_to_drop = ['AWATER','MTFCC','ALAND','NAMELSAD','INTPTLAT','INTPTLON']#'STATEFP','COUNTYFP', 'TRACTCE','FUNCSTAT'\n",
    "# clean_SC_bg = SC_bg.drop(columns=columns_to_drop)#,'NAMELSAD'"
   ]
  },
  {
   "cell_type": "code",
   "execution_count": 9,
   "id": "0ba0d092",
   "metadata": {},
   "outputs": [],
   "source": [
    "# clean_SC_bg.info()"
   ]
  },
  {
   "cell_type": "code",
   "execution_count": 10,
   "id": "5935536b",
   "metadata": {
    "scrolled": false
   },
   "outputs": [],
   "source": [
    "# shape_charleston = clean_SC_bg[clean_SC_bg['COUNTYFP'] == '019']\n",
    "# shape_charleston['GEOID'] = shape_charleston['GEOID'].astype(int)\n",
    "# shape_charleston.info()"
   ]
  },
  {
   "cell_type": "code",
   "execution_count": 11,
   "id": "3c566bf4",
   "metadata": {},
   "outputs": [],
   "source": [
    "# shape_charleston.to_file('data/shape_charleston.gpkg')"
   ]
  },
  {
   "cell_type": "code",
   "execution_count": 12,
   "id": "dc17f088",
   "metadata": {},
   "outputs": [],
   "source": [
    "shape_charleston = gpd.read_file('data/shape_charleston.gpkg')"
   ]
  },
  {
   "cell_type": "code",
   "execution_count": 13,
   "id": "ba44cb3d",
   "metadata": {},
   "outputs": [],
   "source": [
    "# census_bg_path = 'data/census_bg_deltares.gpkg'\n",
    "# census_bg = gpd.read_file(census_bg_path)"
   ]
  },
  {
   "cell_type": "code",
   "execution_count": 14,
   "id": "1806c6cf",
   "metadata": {},
   "outputs": [],
   "source": [
    "# gdf1 = census_bg\n",
    "# gdf2 = shape_charleston"
   ]
  },
  {
   "cell_type": "code",
   "execution_count": 15,
   "id": "4444611e",
   "metadata": {},
   "outputs": [],
   "source": [
    "# if gdf1['geometry'].equals(gdf2['geometry']):\n",
    "#     print(\"The shapefiles have the same geometry.\")\n",
    "# else:\n",
    "#     print(\"The shapefiles have different geometry.\")"
   ]
  },
  {
   "cell_type": "code",
   "execution_count": 16,
   "id": "2d2c74b2",
   "metadata": {},
   "outputs": [],
   "source": [
    "# add geometry to floodadapt data by joining the files\n",
    "join_shape_buildings_ian_70 = ian_70_buildings.sjoin(shape_charleston, how='inner')\n",
    "join_impacts = impacts_res.sjoin(shape_charleston, how='inner')"
   ]
  },
  {
   "cell_type": "code",
   "execution_count": 17,
   "id": "2094dbca",
   "metadata": {},
   "outputs": [],
   "source": [
    "max_damage = {'Max Potential Damage: Structure': 'sum'}\n",
    "damage_str = {'Damage: Structure':'sum'}\n",
    "EAD = {'Risk (EAD)': 'sum'}"
   ]
  },
  {
   "cell_type": "code",
   "execution_count": 18,
   "id": "e9b23a8d",
   "metadata": {},
   "outputs": [],
   "source": [
    "df_max_damage = join_shape_buildings_ian_70.groupby(join_shape_buildings_ian_70['GEOID']).aggregate(max_damage)\n",
    "df_damage_str = join_shape_buildings_ian_70.groupby(join_shape_buildings_ian_70['GEOID']).aggregate(damage_str)\n",
    "df_EAD = join_impacts.groupby(join_impacts['GEOID']).aggregate(EAD)"
   ]
  },
  {
   "cell_type": "code",
   "execution_count": 19,
   "id": "3e54530c",
   "metadata": {},
   "outputs": [],
   "source": [
    "data_frames = [df_max_damage, df_damage_str,df_EAD]\n",
    "df_damage = pd.concat(data_frames, axis=1, ignore_index=False, join='inner')"
   ]
  },
  {
   "cell_type": "code",
   "execution_count": 20,
   "id": "fabab72d",
   "metadata": {},
   "outputs": [],
   "source": [
    "# Perform the join with shapefiles\n",
    "new = shape_charleston.merge(df_damage, on = \"GEOID\")"
   ]
  },
  {
   "cell_type": "code",
   "execution_count": 21,
   "id": "d03c9115",
   "metadata": {},
   "outputs": [
    {
     "data": {
      "text/html": [
       "<div>\n",
       "<style scoped>\n",
       "    .dataframe tbody tr th:only-of-type {\n",
       "        vertical-align: middle;\n",
       "    }\n",
       "\n",
       "    .dataframe tbody tr th {\n",
       "        vertical-align: top;\n",
       "    }\n",
       "\n",
       "    .dataframe thead th {\n",
       "        text-align: right;\n",
       "    }\n",
       "</style>\n",
       "<table border=\"1\" class=\"dataframe\">\n",
       "  <thead>\n",
       "    <tr style=\"text-align: right;\">\n",
       "      <th></th>\n",
       "      <th>GEOID</th>\n",
       "      <th>geometry</th>\n",
       "      <th>Max Potential Damage: Structure</th>\n",
       "      <th>Damage: Structure</th>\n",
       "      <th>Risk (EAD)</th>\n",
       "    </tr>\n",
       "  </thead>\n",
       "  <tbody>\n",
       "    <tr>\n",
       "      <th>0</th>\n",
       "      <td>450190046193</td>\n",
       "      <td>POLYGON ((-79.86198 32.79452, -79.86196 32.794...</td>\n",
       "      <td>1.125926e+08</td>\n",
       "      <td>0.0</td>\n",
       "      <td>22586.35</td>\n",
       "    </tr>\n",
       "    <tr>\n",
       "      <th>1</th>\n",
       "      <td>450190031171</td>\n",
       "      <td>POLYGON ((-80.06813 32.96169, -80.06798 32.961...</td>\n",
       "      <td>7.671196e+07</td>\n",
       "      <td>0.0</td>\n",
       "      <td>10281.18</td>\n",
       "    </tr>\n",
       "  </tbody>\n",
       "</table>\n",
       "</div>"
      ],
      "text/plain": [
       "          GEOID                                           geometry  \\\n",
       "0  450190046193  POLYGON ((-79.86198 32.79452, -79.86196 32.794...   \n",
       "1  450190031171  POLYGON ((-80.06813 32.96169, -80.06798 32.961...   \n",
       "\n",
       "   Max Potential Damage: Structure  Damage: Structure  Risk (EAD)  \n",
       "0                     1.125926e+08                0.0    22586.35  \n",
       "1                     7.671196e+07                0.0    10281.18  "
      ]
     },
     "execution_count": 21,
     "metadata": {},
     "output_type": "execute_result"
    }
   ],
   "source": [
    "#further clean the dataset\n",
    "columns_to_drop = ['STATEFP','COUNTYFP','TRACTCE','BLKGRPCE','FUNCSTAT']\n",
    "df_damage_clean = new.drop(columns=columns_to_drop)\n",
    "df_damage_clean.head(2)"
   ]
  },
  {
   "cell_type": "code",
   "execution_count": 22,
   "id": "7c780995",
   "metadata": {},
   "outputs": [
    {
     "name": "stdout",
     "output_type": "stream",
     "text": [
      "<class 'geopandas.geodataframe.GeoDataFrame'>\n",
      "Int64Index: 252 entries, 0 to 251\n",
      "Data columns (total 5 columns):\n",
      " #   Column                           Non-Null Count  Dtype   \n",
      "---  ------                           --------------  -----   \n",
      " 0   GEOID                            252 non-null    int64   \n",
      " 1   geometry                         252 non-null    geometry\n",
      " 2   Max Potential Damage: Structure  252 non-null    float64 \n",
      " 3   Damage: Structure                252 non-null    float64 \n",
      " 4   Risk (EAD)                       252 non-null    float64 \n",
      "dtypes: float64(3), geometry(1), int64(1)\n",
      "memory usage: 11.8 KB\n"
     ]
    }
   ],
   "source": [
    "df_damage_clean.info()"
   ]
  },
  {
   "cell_type": "code",
   "execution_count": 23,
   "id": "b8371742",
   "metadata": {},
   "outputs": [],
   "source": [
    "################\n",
    "# df_damage_clean.to_csv('data/damage_shape_OG.csv', index=False)\n",
    "# df_damage_clean.to_csv('data/damage_shape_25.csv', index=False)\n",
    "df_damage_clean.to_csv('data/damage_shape.csv', index=False)"
   ]
  },
  {
   "cell_type": "code",
   "execution_count": null,
   "id": "96e2f26c",
   "metadata": {},
   "outputs": [],
   "source": []
  }
 ],
 "metadata": {
  "kernelspec": {
   "display_name": "Python 3 (ipykernel)",
   "language": "python",
   "name": "python3"
  },
  "language_info": {
   "codemirror_mode": {
    "name": "ipython",
    "version": 3
   },
   "file_extension": ".py",
   "mimetype": "text/x-python",
   "name": "python",
   "nbconvert_exporter": "python",
   "pygments_lexer": "ipython3",
   "version": "3.9.13"
  }
 },
 "nbformat": 4,
 "nbformat_minor": 5
}
